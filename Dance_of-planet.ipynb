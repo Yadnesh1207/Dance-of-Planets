{
 "cells": [
  {
   "cell_type": "code",
   "execution_count": 1,
   "id": "a34e2d8f",
   "metadata": {},
   "outputs": [],
   "source": [
    "# --- 1. Imports and Environment Setup ---\n",
    "import numpy as np\n",
    "import matplotlib.pyplot as plt\n",
    "from scipy.integrate import solve_ivp\n",
    "\n",
    "import torch\n",
    "import torch.nn as nn\n",
    "import torch.optim as optim\n",
    "\n",
    "torch.set_default_dtype(torch.float64)\n"
   ]
  },
  {
   "cell_type": "code",
   "execution_count": 2,
   "id": "57f06b02",
   "metadata": {},
   "outputs": [],
   "source": [
    "# --- 2. Constants and Normalization Factors ---\n",
    "G = 5 # scaled gravitational constant\n",
    "SCALE_X = 1e6           # distance in megameters\n",
    "SCALE_V = 1e3           # velocity in km/s\n",
    "SCALE_T = 1e4           # time in 10,000s\n"
   ]
  },
  {
   "cell_type": "code",
   "execution_count": 3,
   "id": "6d35c511",
   "metadata": {},
   "outputs": [],
   "source": [
    "# --- 3. User Input ---\n",
    "m1 = torch.tensor(1e6, dtype=torch.float32)\n",
    "m2 = torch.tensor(1e5, dtype=torch.float32)\n",
    "x1_0 = torch.tensor([0.0, 0.0]) / SCALE_X\n",
    "x2_0 = torch.tensor([3.0e6, 0.0]) / SCALE_X\n",
    "v1_0 = torch.tensor([0.0, 2.0e3]) / SCALE_V\n",
    "v2_0 = torch.tensor([0.0, -2.0e3]) / SCALE_V\n",
    "t_predict = 5000.0 / SCALE_T"
   ]
  },
  {
   "cell_type": "code",
   "execution_count": 4,
   "id": "b9a8db61",
   "metadata": {},
   "outputs": [],
   "source": [
    "# --- 4. Data Generator for Ground Truth ---\n",
    "def generate_data(m1, m2, x1_0, x2_0, v1_0, v2_0, t_span, num_points=1000):\n",
    "    def derivatives(t, y):\n",
    "        x1, y1, x2, y2, vx1, vy1, vx2, vy2 = y\n",
    "        r1 = np.array([x1, y1])\n",
    "        r2 = np.array([x2, y2])\n",
    "        r = np.linalg.norm(r2 - r1)\n",
    "        a1 = G * m2 * (r2 - r1) / r**3\n",
    "        a2 = G * m1 * (r1 - r2) / r**3\n",
    "        return [vx1, vy1, vx2, vy2, *a1, *a2]\n",
    "\n",
    "    y0 = [*(x1_0*SCALE_X), *(x2_0*SCALE_X), *(v1_0*SCALE_V), *(v2_0*SCALE_V)]\n",
    "    t_eval = np.linspace(t_span[0], t_span[1], num_points)\n",
    "    sol = solve_ivp(derivatives, t_span, y0, t_eval=t_eval)\n",
    "    return sol.t, sol.y"
   ]
  },
  {
   "cell_type": "code",
   "execution_count": 5,
   "id": "b4938207",
   "metadata": {},
   "outputs": [],
   "source": [
    "# --- 5. Fourier Features ---\n",
    "class FourierFeatures(nn.Module):\n",
    "    def __init__(self, in_features, num_frequencies=10):\n",
    "        super().__init__()\n",
    "        self.freqs = 2 ** torch.arange(num_frequencies, dtype=torch.float32) * np.pi\n",
    "\n",
    "    def forward(self, x):\n",
    "        x_proj = x @ self.freqs.view(1, -1)\n",
    "        return torch.cat([torch.sin(x_proj), torch.cos(x_proj)], dim=1)\n",
    "\n",
    "# --- 6. PINN Model ---\n",
    "class TwoBodyPINN(nn.Module):\n",
    "    def __init__(self):\n",
    "        super().__init__()\n",
    "        self.fourier = FourierFeatures(1, 10)\n",
    "        self.net = nn.Sequential(\n",
    "            nn.Linear(20, 64),\n",
    "            nn.Tanh(),\n",
    "            nn.Linear(64, 64),\n",
    "            nn.Tanh(),\n",
    "            nn.Linear(64, 64),\n",
    "            nn.Tanh(),\n",
    "            nn.Linear(64, 64),\n",
    "            nn.Tanh(),\n",
    "            nn.Linear(64, 8)\n",
    "        )\n",
    "\n",
    "    def forward(self, t):\n",
    "        t_encoded = self.fourier(t)\n",
    "        return self.net(t_encoded)\n",
    "\n"
   ]
  },
  {
   "cell_type": "code",
   "execution_count": 6,
   "id": "6eaf01b0",
   "metadata": {},
   "outputs": [],
   "source": [
    "# --- 7. Loss Functions ---\n",
    "def ode_residual(pred, t, m1, m2):\n",
    "    x1 = pred[:, 0:2] * SCALE_X\n",
    "    x2 = pred[:, 2:4] * SCALE_X\n",
    "    v1 = pred[:, 4:6] * SCALE_V\n",
    "    v2 = pred[:, 6:8] * SCALE_V\n",
    "\n",
    "    dx1dt = torch.autograd.grad(x1, t, grad_outputs=torch.ones_like(x1), create_graph=True)[0]\n",
    "    dx2dt = torch.autograd.grad(x2, t, grad_outputs=torch.ones_like(x2), create_graph=True)[0]\n",
    "    dv1dt = torch.autograd.grad(v1, t, grad_outputs=torch.ones_like(v1), create_graph=True)[0]\n",
    "    dv2dt = torch.autograd.grad(v2, t, grad_outputs=torch.ones_like(v2), create_graph=True)[0]\n",
    "\n",
    "    r = torch.norm(x2 - x1, dim=1, keepdim=True).clamp(min=1e3)\n",
    "    a1 = G * m2 * (x2 - x1) / r**3\n",
    "    a2 = G * m1 * (x1 - x2) / r**3\n",
    "\n",
    "    res1 = dv1dt - a1\n",
    "    res2 = dv2dt - a2\n",
    "\n",
    "    return (res1**2 + res2**2).mean()"
   ]
  },
  {
   "cell_type": "code",
   "execution_count": 7,
   "id": "7516b842",
   "metadata": {},
   "outputs": [
    {
     "name": "stdout",
     "output_type": "stream",
     "text": [
      "Epoch 0, Loss: 2.2724e+12, Phys: 2.2724e+11, IC: 1.1584e+01, MAE: 3.4948e+00\n",
      "Epoch 500, Loss: 1.4731e+07, Phys: 1.4731e+06, IC: 9.5326e+00, MAE: 3.5129e+00\n",
      "Epoch 1000, Loss: 6.2796e+05, Phys: 6.2795e+04, IC: 7.4070e+00, MAE: 3.3745e+00\n",
      "Epoch 1500, Loss: 4.1783e+04, Phys: 4.1776e+03, IC: 3.8043e+00, MAE: 3.1173e+00\n",
      "Epoch 2000, Loss: 1.2106e+04, Phys: 1.2102e+03, IC: 1.7304e+00, MAE: 2.8874e+00\n",
      "Epoch 2500, Loss: 1.6345e+03, Phys: 1.6308e+02, IC: 9.3525e-01, MAE: 2.7414e+00\n",
      "Epoch 3000, Loss: 1.8595e+03, Phys: 1.8562e+02, IC: 6.1589e-01, MAE: 2.6694e+00\n",
      "Epoch 3500, Loss: 6.5301e+02, Phys: 6.4993e+01, IC: 4.4358e-01, MAE: 2.6351e+00\n",
      "Epoch 4000, Loss: 1.0053e+02, Phys: 9.7566e+00, IC: 3.5497e-01, MAE: 2.6127e+00\n",
      "Epoch 4500, Loss: 4.9051e+01, Phys: 4.6159e+00, IC: 2.9575e-01, MAE: 2.5959e+00\n"
     ]
    }
   ],
   "source": [
    "model = TwoBodyPINN()\n",
    "model.apply(lambda m: nn.init.xavier_uniform_(m.weight) if isinstance(m, nn.Linear) else None)\n",
    "model = model.float()\n",
    "optimizer = torch.optim.Adam(model.parameters(), lr=1e-3)\n",
    "scheduler = torch.optim.lr_scheduler.StepLR(optimizer, step_size=1000, gamma=0.5)\n",
    "\n",
    "t_data, y_data = generate_data(m1, m2, x1_0, x2_0, v1_0, v2_0, (0, 10000), num_points=2000)\n",
    "t_data_tensor = torch.tensor(t_data, dtype=torch.float32).view(-1, 1) / SCALE_T\n",
    "y_true_tensor = torch.tensor(y_data.T, dtype=torch.float32)\n",
    "\n",
    "# Normalize target values\n",
    "y_true_tensor[:, 0:2] /= SCALE_X\n",
    "y_true_tensor[:, 2:4] /= SCALE_X\n",
    "y_true_tensor[:, 4:6] /= SCALE_V\n",
    "y_true_tensor[:, 6:8] /= SCALE_V\n",
    "\n",
    "for epoch in range(5000):\n",
    "    model.train()\n",
    "    optimizer.zero_grad()\n",
    "\n",
    "    t_input = t_data_tensor.clone()\n",
    "    t_input.requires_grad_()\n",
    "\n",
    "    pred = model(t_input)\n",
    "\n",
    "    # Losses\n",
    "    loss_phys = ode_residual(pred, t_input, m1, m2)\n",
    "    loss_ic = ((pred[0, 0:2] - x1_0)**2 + \n",
    "               (pred[0, 2:4] - x2_0)**2 +\n",
    "               (pred[0, 4:6] - v1_0)**2 + \n",
    "               (pred[0, 6:8] - v2_0)**2).mean()\n",
    "\n",
    "    loss_mae = (pred - y_true_tensor).abs().mean()\n",
    "    l2_reg = sum((param**2).sum() for param in model.parameters())\n",
    "\n",
    "    loss = 10.0 * loss_phys + 1.0 * loss_ic + 1.0 * loss_mae + 1e-6 * l2_reg\n",
    "    loss.backward()\n",
    "    torch.nn.utils.clip_grad_norm_(model.parameters(), 1.0)\n",
    "    optimizer.step()\n",
    "    scheduler.step()\n",
    "\n",
    "    if epoch % 500 == 0:\n",
    "        print(f\"Epoch {epoch}, Loss: {loss.item():.4e}, Phys: {loss_phys.item():.4e}, IC: {loss_ic.item():.4e}, MAE: {loss_mae.item():.4e}\")\n"
   ]
  },
  {
   "cell_type": "code",
   "execution_count": 8,
   "id": "42839129",
   "metadata": {},
   "outputs": [
    {
     "name": "stdout",
     "output_type": "stream",
     "text": [
      "\n",
      "Predicted position at t = 5000s\n",
      "x1: [[-11427.343 238838.89 ]]\n",
      "x2: [[2998937.5  -146080.84]]\n",
      "\n",
      "--- MAE Compared to ODE Solver ---\n",
      "Position MAE - Body 1: 112926.4297 m, Body 2: 1574413.5000 m\n",
      "Velocity MAE - Body 1: 813.1144 m/s, Body 2: 727.1803 m/s\n"
     ]
    }
   ],
   "source": [
    "with torch.no_grad():\n",
    "    t_val = torch.tensor([[t_predict]], dtype=torch.float32)\n",
    "    pred_val = model(t_val)\n",
    "    x1_pred = pred_val[:, 0:2] * SCALE_X\n",
    "    x2_pred = pred_val[:, 2:4] * SCALE_X\n",
    "\n",
    "    print(f\"\\nPredicted position at t = {t_predict * SCALE_T:.0f}s\")\n",
    "    print(\"x1:\", x1_pred.numpy())\n",
    "    print(\"x2:\", x2_pred.numpy())\n",
    "\n",
    "    # Compare full trajectory MAE\n",
    "    y_pred_full = model(t_data_tensor)\n",
    "    x1_pred_full = y_pred_full[:, 0:2] * SCALE_X\n",
    "    x2_pred_full = y_pred_full[:, 2:4] * SCALE_X\n",
    "    v1_pred_full = y_pred_full[:, 4:6] * SCALE_V\n",
    "    v2_pred_full = y_pred_full[:, 6:8] * SCALE_V\n",
    "\n",
    "    mae_x1 = (x1_pred_full - y_true_tensor[:, 0:2]).abs().mean()\n",
    "    mae_x2 = (x2_pred_full - y_true_tensor[:, 2:4]).abs().mean()\n",
    "    mae_v1 = (v1_pred_full - y_true_tensor[:, 4:6]).abs().mean()\n",
    "    mae_v2 = (v2_pred_full - y_true_tensor[:, 6:8]).abs().mean()\n",
    "\n",
    "    print(\"\\n--- MAE Compared to ODE Solver ---\")\n",
    "    print(f\"Position MAE - Body 1: {mae_x1.item():.4f} m, Body 2: {mae_x2.item():.4f} m\")\n",
    "    print(f\"Velocity MAE - Body 1: {mae_v1.item():.4f} m/s, Body 2: {mae_v2.item():.4f} m/s\")\n"
   ]
  },
  {
   "cell_type": "code",
   "execution_count": 9,
   "id": "3c72c860",
   "metadata": {},
   "outputs": [
    {
     "data": {
      "image/png": "[encoded data removed]",
      "text/plain": [
       "<Figure size 1000x500 with 1 Axes>"
      ]
     },
     "metadata": {},
     "output_type": "display_data"
    }
   ],
   "source": [
    "# --- 9. Plot Trajectories ---\n",
    "plt.figure(figsize=(10, 5))\n",
    "plt.plot(y_true_tensor[:, 0], y_true_tensor[:, 1], 'b--', label='Body 1 (True)', alpha=0.7)\n",
    "plt.plot(y_true_tensor[:, 2], y_true_tensor[:, 3], 'r--', label='Body 2 (True)', alpha=0.7)\n",
    "\n",
    "plt.plot(x1_pred_full[:, 0], x1_pred_full[:, 1], 'b-', label='Body 1 (PINN)', linewidth=2)\n",
    "plt.plot(x2_pred_full[:, 0], x2_pred_full[:, 1], 'r-', label='Body 2 (PINN)', linewidth=2)\n",
    "\n",
    "plt.xlabel('X Position (m)')\n",
    "plt.ylabel('Y Position (m)')\n",
    "plt.title('Two-Body Trajectory Comparison: PINN vs ODE Solver')\n",
    "plt.legend()\n",
    "plt.axis('equal')\n",
    "plt.grid(True)\n",
    "plt.tight_layout()\n",
    "plt.show()\n"
   ]
  }
 ],
 "metadata": {
  "kernelspec": {
   "display_name": "torch-env",
   "language": "python",
   "name": "python3"
  },
  "language_info": {
   "codemirror_mode": {
    "name": "ipython",
    "version": 3
   },
   "file_extension": ".py",
   "mimetype": "text/x-python",
   "name": "python",
   "nbconvert_exporter": "python",
   "pygments_lexer": "ipython3",
   "version": "3.10.17"
  }
 },
 "nbformat": 4,
 "nbformat_minor": 5
}
